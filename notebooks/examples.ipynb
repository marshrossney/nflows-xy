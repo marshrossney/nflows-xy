{
 "cells": [
  {
   "cell_type": "markdown",
   "id": "6760f1f1-b2b1-4fd3-a689-ab709f6371a8",
   "metadata": {},
   "source": [
    "# Minimal Workflow in Jupyter"
   ]
  },
  {
   "cell_type": "markdown",
   "id": "ed325254-ad21-4272-8b75-136b7fa9b40a",
   "metadata": {},
   "source": [
    "This notebook demonstrates how to train models and run HMC from within a Jupyter notebook.\n",
    "It does not cover loading/saving models."
   ]
  },
  {
   "cell_type": "code",
   "execution_count": null,
   "id": "1e8c00d3-a07a-4c94-b50b-04f9da09249e",
   "metadata": {},
   "outputs": [],
   "source": [
    "import pandas as pd\n",
    "\n",
    "from nflows_xy.autocorr import autocorrelations\n",
    "from nflows_xy.core import FlowBasedSampler, PullbackAction\n",
    "from nflows_xy.flows import HierarchicalFlow\n",
    "from nflows_xy.hmc import hmc\n",
    "from nflows_xy.train import train, test\n",
    "from nflows_xy.xy import action, top_charge, spin_correlation"
   ]
  },
  {
   "cell_type": "markdown",
   "id": "2b6b3ed7-632e-4dd6-8264-f57f5c65e1f4",
   "metadata": {},
   "source": [
    "## 1. Training"
   ]
  },
  {
   "cell_type": "code",
   "execution_count": null,
   "id": "b81a218d-2801-4b78-b33f-1a88a1e26be8",
   "metadata": {},
   "outputs": [],
   "source": [
    "L = 16\n",
    "β = 5.0\n",
    "\n",
    "flow = HierarchicalFlow(\n",
    "    lattice_size=L,\n",
    "    n_mixture=12,\n",
    "    weighted=False,\n",
    "    net_shape=[12],\n",
    "    net_activation=\"Tanh\",\n",
    ")\n",
    "target = action(beta=β, lattice_size=L, lattice_dim=1)\n",
    "model = FlowBasedSampler(flow, target)\n",
    "\n",
    "_ = model(1)\n",
    "\n",
    "model"
   ]
  },
  {
   "cell_type": "code",
   "execution_count": null,
   "id": "cea77ed8-cdab-4cc8-bbea-9e02eeaa5000",
   "metadata": {},
   "outputs": [],
   "source": [
    "model = model.to(\"cuda\")\n",
    "training_metrics = train(\n",
    "    model,\n",
    "    n_steps=2000,\n",
    "    batch_size=2048,\n",
    ")\n",
    "model = model.to(\"cpu\")\n",
    "\n",
    "_ = training_metrics.plot(\n",
    "    x=\"step\",\n",
    "    y=[\"loss\", \"ess\"],\n",
    "    subplots=True,\n",
    "    linestyle=\"--\",\n",
    "    marker=\".\",\n",
    ")"
   ]
  },
  {
   "cell_type": "code",
   "execution_count": null,
   "id": "d88cee72-772f-456e-98b6-7da60a6575f8",
   "metadata": {},
   "outputs": [],
   "source": [
    "training_metrics[\"one_minus_ess\"] = 1 - training_metrics.ess\n",
    "training_metrics.plot(\n",
    "    x=\"step\",\n",
    "    y=[\"one_minus_ess\", \"vlw\"],\n",
    "    subplots=True,\n",
    "    linestyle=\"--\",\n",
    "    marker=\".\",\n",
    "    logy=True,\n",
    ")"
   ]
  },
  {
   "cell_type": "code",
   "execution_count": null,
   "id": "acb531b8-3663-4ed2-8e9a-371d3358320b",
   "metadata": {},
   "outputs": [],
   "source": [
    "test_metrics = test(model, batch_size=4096)\n",
    "\n",
    "test_metrics.describe()"
   ]
  },
  {
   "cell_type": "code",
   "execution_count": null,
   "id": "6a4393a3-951e-4ea4-8131-5bafce59c3e4",
   "metadata": {},
   "outputs": [],
   "source": [
    "test_metrics.ess.hist(bins=15) "
   ]
  },
  {
   "cell_type": "markdown",
   "id": "75b25bc4-aa8e-40f9-abb8-c3d3d19a2b80",
   "metadata": {},
   "source": [
    "## 2. Hybrid Monte Carlo"
   ]
  },
  {
   "cell_type": "code",
   "execution_count": null,
   "id": "9d827026-bcb6-4a9e-9601-ab041311a8a8",
   "metadata": {},
   "outputs": [],
   "source": [
    "hmc?"
   ]
  },
  {
   "cell_type": "code",
   "execution_count": null,
   "id": "05750d22-a130-41f6-ad7b-32fb27abc5b8",
   "metadata": {},
   "outputs": [],
   "source": [
    "φ, hmc_metrics = hmc(\n",
    "    action=target,\n",
    "    n_replica=64,\n",
    "    n_traj=10000,\n",
    "    step_size=0.1,\n",
    "    traj_length=1.0,\n",
    ")\n",
    "\n",
    "print(φ.shape, hmc_metrics)"
   ]
  },
  {
   "cell_type": "code",
   "execution_count": null,
   "id": "f3637482-b541-4c2c-bdbb-b59e6394ffc9",
   "metadata": {},
   "outputs": [],
   "source": [
    "Q = top_charge(φ)\n",
    "\n",
    "df = pd.DataFrame(data=Q.squeeze(-1).T.numpy(), columns=[f\"r{i}\" for i in range(1, len(Q) + 1)])\n",
    "ax = df[[\"r1\", \"r2\"]].plot(xlabel=\"Monte Carlo time\", ylabel=\"Q\")\n",
    "#ax2 = ax.twiny()\n",
    "#df.mean(axis=0).hist(bins=16, orientation=\"horizontal\", density=True, ax=ax2)"
   ]
  },
  {
   "cell_type": "markdown",
   "id": "79492594-5069-4d75-9781-7d5d51d944b6",
   "metadata": {},
   "source": [
    "## 3. Flow-HMC"
   ]
  },
  {
   "cell_type": "code",
   "execution_count": null,
   "id": "187f006c-0f9a-4a5d-bd89-8d0667c34568",
   "metadata": {},
   "outputs": [],
   "source": [
    "φ2, fhmc_metrics = hmc(\n",
    "    action=PullbackAction(model.flow, model.target),\n",
    "    n_replica=64,\n",
    "    n_traj=1000,\n",
    "    step_size=0.1,\n",
    "    traj_length=1.0,\n",
    ")\n",
    "print(φ2.shape, fhmc_metrics)"
   ]
  },
  {
   "cell_type": "code",
   "execution_count": null,
   "id": "2bbdbd0c-f069-4c0d-ae79-cecdd9b6615e",
   "metadata": {},
   "outputs": [],
   "source": [
    "Q2 = top_charge(φ2)\n",
    "\n",
    "print(Q2.shape)\n",
    "\n",
    "import pandas as pd\n",
    "df2 = pd.DataFrame(data=Q2.squeeze(-1).T.numpy(), columns=[f\"r{i}\" for i in range(1, len(Q2) + 1)])\n",
    "ax = df2[[\"r1\", \"r2\"]].plot(xlabel=\"Monte Carlo time\", ylabel=\"Q\")\n",
    "#ax2 = ax.twiny()\n",
    "#df2.mean(axis=0).hist(bins=16, orientation=\"horizontal\", histtype=\"step\", ax=ax2)"
   ]
  },
  {
   "cell_type": "markdown",
   "id": "a2d64c23-08b3-4b3a-9093-a4e403fd2c27",
   "metadata": {},
   "source": [
    "# Running Scripts from within Jupyter\n",
    "\n",
    "You can also just run the command line scripts directly from within a Jupyter notebook by prepending the command with `!`, or by using `%%bash` to execute an entire cell with bash."
   ]
  },
  {
   "cell_type": "code",
   "execution_count": null,
   "id": "b66c2c35-ad87-4012-baa6-03f9d24eca7e",
   "metadata": {},
   "outputs": [],
   "source": [
    "!nfxy --help"
   ]
  },
  {
   "cell_type": "code",
   "execution_count": null,
   "id": "046a6e62-4e93-48ba-bad5-2905623e8680",
   "metadata": {},
   "outputs": [],
   "source": [
    "%%bash\n",
    "\n",
    "echo \"Running HMC benchmark in ${SHELL}\"\n",
    "nfxy hmc-benchmark -c ../examples/benchmark.yaml"
   ]
  },
  {
   "cell_type": "markdown",
   "id": "b84db8fe-0dcd-4da2-9e5c-f23bc65542a9",
   "metadata": {},
   "source": [
    "## 1. Training"
   ]
  },
  {
   "cell_type": "code",
   "execution_count": null,
   "id": "02d0034d-0db1-4536-bddf-c673784494d5",
   "metadata": {},
   "outputs": [],
   "source": [
    "!nfxy train --help"
   ]
  }
 ],
 "metadata": {
  "kernelspec": {
   "display_name": "Python 3 (ipykernel)",
   "language": "python",
   "name": "python3"
  },
  "language_info": {
   "codemirror_mode": {
    "name": "ipython",
    "version": 3
   },
   "file_extension": ".py",
   "mimetype": "text/x-python",
   "name": "python",
   "nbconvert_exporter": "python",
   "pygments_lexer": "ipython3",
   "version": "3.10.7"
  }
 },
 "nbformat": 4,
 "nbformat_minor": 5
}
