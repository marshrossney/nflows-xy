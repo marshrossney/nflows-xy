{
 "cells": [
  {
   "cell_type": "markdown",
   "id": "e98ad512-e9fa-460c-89f9-4b3b11b67778",
   "metadata": {},
   "source": [
    "# Investigating large forces in HMC"
   ]
  },
  {
   "cell_type": "code",
   "execution_count": null,
   "id": "cf4ff56c-65cf-4617-a9ba-5e362333cb88",
   "metadata": {},
   "outputs": [],
   "source": [
    "from math import pi as π\n",
    "\n",
    "import torch\n",
    "import pandas as pd\n",
    "\n",
    "from nflows_xy.core import FlowBasedSampler, PullbackAction\n",
    "from nflows_xy.flows import AutoregressiveFlow\n",
    "from nflows_xy.plot import plot_training_metrics\n",
    "from nflows_xy.train import train, test\n",
    "from nflows_xy.xy import action\n",
    "from nflows_xy.utils import mod_2pi"
   ]
  },
  {
   "cell_type": "markdown",
   "id": "eec36126-9b73-4fcb-8c60-4005719c82a4",
   "metadata": {},
   "source": [
    "## Data generation"
   ]
  },
  {
   "cell_type": "markdown",
   "id": "59cdda9f-8a9b-4941-9dd6-9cfd4fb07992",
   "metadata": {},
   "source": [
    "### Meshgrid"
   ]
  },
  {
   "cell_type": "markdown",
   "id": "fae70cb0-ba9d-4103-adc6-ecd3e48c43b8",
   "metadata": {},
   "source": [
    "### Scatter"
   ]
  },
  {
   "cell_type": "markdown",
   "id": "7e3367aa-6139-4216-8cf3-38f5f219e413",
   "metadata": {
    "jp-MarkdownHeadingCollapsed": true
   },
   "source": [
    "### Molecular Dynamics trajectory"
   ]
  },
  {
   "cell_type": "code",
   "execution_count": null,
   "id": "dbe7cd19-a23c-4c87-aadc-4587c9ea7cc2",
   "metadata": {},
   "outputs": [],
   "source": [
    "@torch.no_grad()\n",
    "def leapfrog(\n",
    "    z0,\n",
    "    p0,\n",
    "    action,\n",
    "    step_size,\n",
    "    traj_length,\n",
    "):\n",
    "    \"\"\"Similar to nflows_xy.hmc.leapfrog but tracks quantities at each step.\"\"\"\n",
    "\n",
    "    n_steps = max(1, round(traj_length / abs(step_size)))\n",
    "\n",
    "    t = 0.\n",
    "    z = z0.clone()\n",
    "    p = p0.clone()\n",
    "    ε = step_size\n",
    "    F = action.grad(z).negative()\n",
    "\n",
    "    z_ = [z.clone()]\n",
    "    p_ = [p.clone()]\n",
    "    t_ = [t]\n",
    "\n",
    "    for _ in range(n_steps):     \n",
    "       \n",
    "        p = p + (ε / 2) * F\n",
    "        z = mod_2pi(z + ε * p)\n",
    "        F = action.grad(z).negative()\n",
    "        p = p + (ε / 2) * F\n",
    "        t += ε\n",
    "        \n",
    "        z_.append(z.clone())\n",
    "        p_.append(p.clone())\n",
    "        t_.append(t)\n",
    "\n",
    "    t = torch.tensor(t_)\n",
    "    z = torch.cat(z_)\n",
    "    p = torch.cat(p_)\n",
    "    S_pull = action(z)\n",
    "    F = action.grad(z).negative()\n",
    "    φ, ldj = action.flow(z)\n",
    "    S_targ = action.target(φ)\n",
    "    H = (p**2 / 2).sum(dim=1) + S_pull \n",
    "    \n",
    "    data = torch.cat(\n",
    "        [\n",
    "            z.squeeze(-1),\n",
    "            φ.squeeze(-1),\n",
    "            p.squeeze(-1),\n",
    "            F.squeeze(-1),\n",
    "            F.pow(2).sum(1).sqrt(),\n",
    "            ldj,\n",
    "            S_pull,\n",
    "            S_targ,\n",
    "            H,\n",
    "        ],\n",
    "        dim=1,\n",
    "    )\n",
    "    columns = [\n",
    "        *[f\"z{i}\" for i in range(L)],\n",
    "        *[f\"φ{i}\" for i in range(L)],\n",
    "        *[f\"p{i}\" for i in range(L)],\n",
    "        *[f\"F{i}\" for i in range(L)],\n",
    "        \"|F|\",\n",
    "        \"ldj\",\n",
    "        \"S_pull\",\n",
    "        \"S_targ\",\n",
    "        \"H\",\n",
    "    ]\n",
    "    \n",
    "    trajectory = pd.DataFrame(\n",
    "        data=data,\n",
    "        index=time.numpy(),\n",
    "        columns=columns,\n",
    "    )\n",
    "\n",
    "    return trajectory"
   ]
  },
  {
   "cell_type": "markdown",
   "id": "fbbdc356-fb2d-4e17-a8e5-220ad1514a5d",
   "metadata": {},
   "source": [
    "## Demonstration of the problem"
   ]
  },
  {
   "cell_type": "code",
   "execution_count": null,
   "id": "d4dac5ee-0335-495f-997e-787d3b17d55e",
   "metadata": {},
   "outputs": [],
   "source": [
    "L = 2\n",
    "\n",
    "target = action(beta=3.0, lattice_size=L, lattice_dim=1)\n",
    "flow = AutoregressiveFlow(\n",
    "    lattice_size=L,\n",
    "    n_mixture=12,\n",
    "    net_shape=[32],\n",
    "    net_activation=\"ReLU\",\n",
    ")\n",
    "model = FlowBasedSampler(flow, target)\n",
    "\n",
    "training_metrics = train(\n",
    "    model, \n",
    "    n_steps=2000,\n",
    "    batch_size=2048,\n",
    ")\n",
    "\n",
    "training_metrics.plot(x=\"step\", y=[\"loss\", \"ess\", \"vlw\"], subplots=True)"
   ]
  },
  {
   "cell_type": "code",
   "execution_count": null,
   "id": "13032d7a-6654-49e0-a401-f23dd6ace549",
   "metadata": {},
   "outputs": [],
   "source": [
    "pullback = PullbackAction(flow=model.flow, target=model.target)\n",
    "trajectory = leapfrog(\n",
    "    z0=torch.empty(1, L, 1).uniform_(0, 2 * π),\n",
    "    p0=torch.empty(1, L, 1).normal_(),\n",
    "    action=pullback,\n",
    "    step_size=0.01,\n",
    "    traj_length=4.,\n",
    ")\n",
    "\n",
    "# action_ = pullback(coords)\n",
    "# forces = pullback.grad(coords).negative()\n",
    "# data = torch.cat(\n",
    "#     [\n",
    "#         coords.squeeze(-1),\n",
    "#         momentum.squeeze(-1),\n",
    "#         action_,\n",
    "#         forces.squeeze(-1),\n",
    "#         forces.pow(2).sum(dim=1).sqrt(),\n",
    "#     ],\n",
    "#     dim=1,\n",
    "# )\n",
    "\n",
    "# trajectory = pd.DataFrame(\n",
    "#     data=data,\n",
    "#     index=time.numpy(),\n",
    "#     columns=[f\"x{i}\" for i in range(L)] + [f\"p{i}\" for i in range(L)] + [\"S\"] + [f\"F{i}\" for i in range(L)] + [\"|F|\"],\n",
    "# )\n",
    "\n",
    "trajectory.head()"
   ]
  },
  {
   "cell_type": "code",
   "execution_count": null,
   "id": "80cc830c-bf12-4fa6-bb8d-4fdf97ebdd8c",
   "metadata": {},
   "outputs": [],
   "source": [
    "trajectory.plot(y=[\"z1\", \"φ1\"])"
   ]
  },
  {
   "cell_type": "code",
   "execution_count": null,
   "id": "2a002ff8-12ca-40ac-a285-f94caf1b7cd3",
   "metadata": {},
   "outputs": [],
   "source": [
    "trajectory.plot(y=[\"S_targ\", \"ldj\", \"S_pull\", \"|F|\"], subplots=True, figsize=(10, 10))"
   ]
  },
  {
   "cell_type": "raw",
   "id": "3eb99148-52e7-49bf-a6b4-4d1eccff26af",
   "metadata": {},
   "source": [
    "trajectory[\"diff\"] = trajectory[\"S_targ\"] - trajectory[\"ldj\"]\n",
    "ax = trajectory.plot(y=[\"S_pull\", \"diff\"])"
   ]
  },
  {
   "cell_type": "code",
   "execution_count": null,
   "id": "872146d3-2cfb-426a-a51f-2fc368121907",
   "metadata": {},
   "outputs": [],
   "source": [
    "import seaborn as sns\n",
    "\n",
    "sns.pairplot(trajectory[[\"S_targ\", \"|F|\"]])"
   ]
  },
  {
   "cell_type": "markdown",
   "id": "b9c81cf3-380f-423d-a0fa-59840b2cc72e",
   "metadata": {},
   "source": [
    "## Two dimensional experiment"
   ]
  },
  {
   "cell_type": "code",
   "execution_count": null,
   "id": "7d9fbb6c-6fe4-4cb3-b06f-4cf47191d107",
   "metadata": {},
   "outputs": [],
   "source": [
    "z = torch.linspace(0, 2 * π, 50)\n",
    "z = torch.cartesian_prod(z, z).unsqueeze(-1)\n",
    "with torch.no_grad():\n",
    "    φ, ldj = model.flow(z)\n",
    "\n",
    "S_pull = pullback(z)\n",
    "F = pullback.grad(z).negative()\n",
    "S_targ = pullback.target(φ)\n",
    "\n",
    "data = torch.cat(\n",
    "    [\n",
    "        z.squeeze(-1),\n",
    "        φ.squeeze(-1),\n",
    "        F.squeeze(-1),\n",
    "        F.pow(2).sum(1).sqrt(),\n",
    "        ldj,\n",
    "        S_pull,\n",
    "        S_targ,\n",
    "    ],\n",
    "    dim=1,\n",
    ")\n",
    "columns = [\n",
    "    *[f\"z{i}\" for i in range(L)],\n",
    "    *[f\"φ{i}\" for i in range(L)],\n",
    "    *[f\"F{i}\" for i in range(L)],\n",
    "    \"|F|\",\n",
    "    \"ldj\",\n",
    "    \"S_pull\",\n",
    "    \"S_targ\",\n",
    "]\n",
    "\n",
    "data = pd.DataFrame(\n",
    "    data=data,\n",
    "    columns=columns,\n",
    ")\n",
    "data.head()"
   ]
  },
  {
   "cell_type": "code",
   "execution_count": null,
   "id": "65fc2630-dbcd-44d2-9ce3-37924a6980d6",
   "metadata": {},
   "outputs": [],
   "source": [
    "sns.heatmap(\n",
    "    data.pivot(columns=\"z1\", index=\"z0\", values=\"S_targ\")\n",
    ")"
   ]
  },
  {
   "cell_type": "code",
   "execution_count": null,
   "id": "df2ece0b-7cdd-43ca-bba3-4735a2eed4ce",
   "metadata": {},
   "outputs": [],
   "source": [
    "sns.heatmap(\n",
    "    data.pivot(columns=\"z1\", index=\"z0\", values=\"S_pull\")\n",
    ")"
   ]
  },
  {
   "cell_type": "code",
   "execution_count": null,
   "id": "77181df4-8af9-4089-8570-cd9d00b7840d",
   "metadata": {},
   "outputs": [],
   "source": [
    "sns.scatterplot(\n",
    "    data,\n",
    "    x=\"φ0\",\n",
    "    y=\"φ1\",\n",
    "    s=3.\n",
    ")"
   ]
  },
  {
   "cell_type": "code",
   "execution_count": null,
   "id": "d2b288c7-f388-4fd7-9800-c514fce492cc",
   "metadata": {},
   "outputs": [],
   "source": []
  },
  {
   "cell_type": "markdown",
   "id": "2fbd56e7-5573-48be-8df3-c78880356a27",
   "metadata": {},
   "source": [
    "## Demonstration of the problem"
   ]
  },
  {
   "cell_type": "code",
   "execution_count": null,
   "id": "816802e6-120b-4c64-b95d-6f58624df205",
   "metadata": {},
   "outputs": [],
   "source": [
    "target = action(beta=6.0, lattice_size=2, lattice_dim=1)\n",
    "flow = AutoregressiveFlow(\n",
    "    lattice_size=2,\n",
    "    n_mixture=1,\n",
    "    net_shape=[16],\n",
    "    net_activation=\"Tanh\",\n",
    ")\n",
    "model = FlowBasedSampler(flow, target)\n",
    "\n",
    "_ = model(1)  # instantiate lazy layers\n",
    "\n",
    "model"
   ]
  },
  {
   "cell_type": "code",
   "execution_count": null,
   "id": "e1d4cfe8-4a8e-484b-ae35-d53214f09b51",
   "metadata": {},
   "outputs": [],
   "source": [
    "training_metrics = train(\n",
    "    model, \n",
    "    n_steps=1000,\n",
    "    batch_size=1024,\n",
    ")\n",
    "\n",
    "training_metrics.plot(x=\"step\", y=[\"loss\", \"ess\", \"vlw\"], subplots=True)"
   ]
  },
  {
   "cell_type": "code",
   "execution_count": null,
   "id": "3ea00ffa-5960-4c66-a029-1f3a7fc5fe66",
   "metadata": {},
   "outputs": [],
   "source": [
    "pullback = PullbackAction(flow=model.flow, target=model.target)\n",
    "time, coords, momentum = leapfrog(\n",
    "    φ0=torch.empty(1, 8, 1).uniform_(0, 2 * π),\n",
    "    p0=torch.empty(1, 8, 1).normal_(),\n",
    "    action=pullback,\n",
    "    step_size=0.01,\n",
    "    traj_length=10.,\n",
    ")\n",
    "\n",
    "action_ = pullback(coords)\n",
    "forces = pullback.grad(coords).negative()\n",
    "\n",
    "trajectory = pd.DataFrame(\n",
    "    data=torch.cat([action_, forces.pow(2).sum(dim=1)], dim=1).squeeze(-1),\n",
    "    index=time.numpy(),\n",
    "    columns=[S\", \"F\"],\n",
    ")\n",
    "\n",
    "trajectory.head()"
   ]
  },
  {
   "cell_type": "code",
   "execution_count": null,
   "id": "146151ba-f75b-4e34-b917-bf710523de38",
   "metadata": {},
   "outputs": [],
   "source": [
    "trajectory.plot(subplots=True)"
   ]
  },
  {
   "cell_type": "code",
   "execution_count": null,
   "id": "4a67b649-ad05-41cd-8eb6-2ffd078642e1",
   "metadata": {},
   "outputs": [],
   "source": [
    "import seaborn as sns\n",
    "\n",
    "sns.pairplot(trajectory)"
   ]
  },
  {
   "cell_type": "code",
   "execution_count": null,
   "id": "7f562283-57c7-4d9d-a06a-75fe44e16297",
   "metadata": {},
   "outputs": [],
   "source": [
    "trajectory.plot(y=[\"x1\", \"x2\"], linestyle=\":\", marker=\"\")"
   ]
  },
  {
   "cell_type": "code",
   "execution_count": null,
   "id": "31540aaa-9de9-427b-aaf1-9a85157864c7",
   "metadata": {},
   "outputs": [],
   "source": [
    "trajectory.plot(y=[\"F1\", \"F2\"], linestyle=\":\", marker=\"\")"
   ]
  },
  {
   "cell_type": "code",
   "execution_count": null,
   "id": "f0f5ab67-570f-48f8-8b28-b5cd1aa5e2df",
   "metadata": {},
   "outputs": [],
   "source": []
  }
 ],
 "metadata": {
  "kernelspec": {
   "display_name": "Python 3 (ipykernel)",
   "language": "python",
   "name": "python3"
  },
  "language_info": {
   "codemirror_mode": {
    "name": "ipython",
    "version": 3
   },
   "file_extension": ".py",
   "mimetype": "text/x-python",
   "name": "python",
   "nbconvert_exporter": "python",
   "pygments_lexer": "ipython3",
   "version": "3.10.7"
  }
 },
 "nbformat": 4,
 "nbformat_minor": 5
}
