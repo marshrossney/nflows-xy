{
 "cells": [
  {
   "cell_type": "markdown",
   "id": "e98ad512-e9fa-460c-89f9-4b3b11b67778",
   "metadata": {},
   "source": [
    "# Investigating large forces in HMC"
   ]
  },
  {
   "cell_type": "code",
   "execution_count": null,
   "id": "cf4ff56c-65cf-4617-a9ba-5e362333cb88",
   "metadata": {},
   "outputs": [],
   "source": [
    "from math import pi as π, sqrt\n",
    "\n",
    "import torch\n",
    "import pandas as pd\n",
    "import seaborn as sns\n",
    "import numpy as np\n",
    "\n",
    "from nflows_xy.core import FlowBasedSampler, PullbackAction\n",
    "from nflows_xy.flows import AutoregressiveFlow, DummyFlow\n",
    "from nflows_xy.plot import plot_training_metrics\n",
    "from nflows_xy.train import train, test\n",
    "from nflows_xy.xy import action as Action\n",
    "from nflows_xy.utils import mod_2pi\n",
    "\n",
    "Tensor = torch.Tensor"
   ]
  },
  {
   "cell_type": "markdown",
   "id": "eec36126-9b73-4fcb-8c60-4005719c82a4",
   "metadata": {},
   "source": [
    "## Data generation"
   ]
  },
  {
   "cell_type": "code",
   "execution_count": null,
   "id": "971a02c0-3a21-4e1f-ae6c-a5a1c23109ef",
   "metadata": {},
   "outputs": [],
   "source": [
    "@torch.no_grad()\n",
    "def _leapfrog(\n",
    "    z0,\n",
    "    p0,\n",
    "    action,\n",
    "    step_size,\n",
    "    traj_length,\n",
    "):\n",
    "    \"\"\"Similar to nflows_xy.hmc.leapfrog but tracks quantities at each step.\"\"\"\n",
    "\n",
    "    n_steps = max(1, round(traj_length / abs(step_size)))\n",
    "\n",
    "    z = z0.clone()\n",
    "    p = p0.clone()\n",
    "    ε = step_size\n",
    "    F = action.grad(z).negative()\n",
    "\n",
    "    trajectory = [z.clone()]\n",
    "\n",
    "    for _ in range(n_steps):     \n",
    "       \n",
    "        p = p + (ε / 2) * F\n",
    "        z = mod_2pi(z + ε * p)\n",
    "        F = action.grad(z).negative()\n",
    "        p = p + (ε / 2) * F\n",
    "        \n",
    "        trajectory.append(z.clone())\n",
    "\n",
    "    return torch.cat(trajectory)\n",
    "\n",
    "def _make_data(z: Tensor, action: PullbackAction) -> pd.DataFrame:\n",
    "        \n",
    "    with torch.no_grad():\n",
    "        φ, ldj = action.flow(z)\n",
    "\n",
    "    S_pull = action(z)\n",
    "    F = action.grad(z).negative()\n",
    "    S_targ = action.target(φ)\n",
    "\n",
    "    data = torch.cat(\n",
    "        [\n",
    "            z.squeeze(-1),\n",
    "            φ.squeeze(-1),\n",
    "            F.squeeze(-1),\n",
    "            F.pow(2).sum(1).sqrt(),\n",
    "            ldj,\n",
    "            S_pull,\n",
    "            S_targ,\n",
    "        ],\n",
    "        dim=1,\n",
    "    )\n",
    "    columns = [\n",
    "        *[f\"z{i}\" for i in range(L)],\n",
    "        *[f\"φ{i}\" for i in range(L)],\n",
    "        *[f\"F{i}\" for i in range(L)],\n",
    "        \"|F|\",\n",
    "        \"ldj\",\n",
    "        \"S_pull\",\n",
    "        \"S_targ\",\n",
    "    ]\n",
    "    \n",
    "    data = pd.DataFrame(\n",
    "        data=data,\n",
    "        columns=columns,\n",
    "    )\n",
    "\n",
    "    return data\n",
    "\n",
    "def make_scatter(action: PullbackAction, size: int, seed: int | None = None) -> pd.DataFrame:\n",
    "    seed = seed or torch.seed()\n",
    "    print(f\"Seeding RNG with seed {seed}\")\n",
    "    torch.manual_seed(seed)\n",
    "    L = action.lattice_size\n",
    "    z = torch.empty(size, L, 1).uniform_(0, 2 * π)\n",
    "    return _make_data(z, action)\n",
    "\n",
    "def make_linspace(action: PullbackAction, size: int) -> pd.DataFrame:\n",
    "    assert action.lattice_size == 2\n",
    "    z = torch.stack(\n",
    "        [\n",
    "            torch.zeros(size),\n",
    "            torch.linspace(0, 2 * π, size),\n",
    "        ],\n",
    "        dim=1,\n",
    "    ).unsqueeze(-1)\n",
    "    return _make_data(z, action)\n",
    "\n",
    "def make_trajectory(action: PullbackAction, step: float, length: float = 1.0, seed: int | None = None) -> pd.DataFrame:\n",
    "    seed = seed or torch.seed()\n",
    "    print(f\"Seeding RNG with seed {seed}\")\n",
    "    torch.manual_seed(seed)\n",
    "    L = action.lattice_size\n",
    "    z = _leapfrog(\n",
    "        z0=torch.empty(1, L, 1).uniform_(0, 2 * π),\n",
    "        p0=torch.empty(1, L, 1).normal_(),\n",
    "        action=action,\n",
    "        step_size=step,\n",
    "        traj_length=length,\n",
    "    )\n",
    "    return _make_data(z, action)"
   ]
  },
  {
   "cell_type": "markdown",
   "id": "f5f4f409-dbe0-4de5-b3ac-777292545189",
   "metadata": {},
   "source": [
    "## Hybrid Monte Carlo\n",
    "\n",
    "The action here is\n",
    "\n",
    "$$\n",
    "    S = -2\\beta \\cos(\\phi_0 - \\phi_1) \n",
    "$$\n",
    "\n",
    "The largest possible magnitude force is hence\n",
    "\n",
    "$$\n",
    "    |F_\\text{max}| = 2\\sqrt{2} \\beta\n",
    "$$"
   ]
  },
  {
   "cell_type": "code",
   "execution_count": null,
   "id": "3583ad2f-ffcf-4d35-9615-db89af292eec",
   "metadata": {},
   "outputs": [],
   "source": [
    "L = 2\n",
    "\n",
    "target = Action(beta=3.0, lattice_size=L, lattice_dim=1)\n",
    "flow = DummyFlow()\n",
    "model = FlowBasedSampler(flow, target)\n",
    "\n",
    "pullback = PullbackAction(model.flow, model.target)\n",
    "trajectory = make_trajectory(pullback, step=0.01, length=4.0, seed=123456789)\n",
    "axes = trajectory.plot(y=[\"S_targ\", \"ldj\", \"S_pull\", \"|F|\"], subplots=True, figsize=(10, 10))\n",
    "\n",
    "axes[-1].axhline(2 * sqrt(2) * target.beta, ls=\"--\")  # max force"
   ]
  },
  {
   "cell_type": "markdown",
   "id": "fbbdc356-fb2d-4e17-a8e5-220ad1514a5d",
   "metadata": {},
   "source": [
    "## Demonstration of the problem"
   ]
  },
  {
   "cell_type": "code",
   "execution_count": null,
   "id": "d4dac5ee-0335-495f-997e-787d3b17d55e",
   "metadata": {},
   "outputs": [],
   "source": [
    "L = 2\n",
    "\n",
    "target = Action(beta=3.0, lattice_size=L, lattice_dim=1)\n",
    "flow = AutoregressiveFlow(\n",
    "    lattice_size=L,\n",
    "    n_mixture=12,\n",
    "    net_shape=[32],\n",
    "    net_activation=\"Tanh\",\n",
    ")\n",
    "model = FlowBasedSampler(flow, target)\n",
    "\n",
    "training_metrics = train(\n",
    "    model, \n",
    "    n_steps=2000,\n",
    "    batch_size=2048,\n",
    ")\n",
    "\n",
    "training_metrics.plot(x=\"step\", y=[\"loss\", \"ess\", \"vlw\"], subplots=True)"
   ]
  },
  {
   "cell_type": "code",
   "execution_count": null,
   "id": "85d3ee4b-c6b1-4f61-81aa-1d97ac81dc8b",
   "metadata": {},
   "outputs": [],
   "source": [
    "pullback = PullbackAction(model.flow, model.target)\n",
    "data = make_linspace(pullback, size=10000)\n",
    "data.plot(x=\"z1\", y=[\"S_targ\", \"ldj\", \"S_pull\", \"|F|\"], subplots=True, figsize=(10, 10))"
   ]
  },
  {
   "cell_type": "code",
   "execution_count": null,
   "id": "b996904a-f96b-4665-8cba-c67b28818e63",
   "metadata": {},
   "outputs": [],
   "source": [
    "data = data[abs(data.z1 - π - 0.15) < 0.1]\n",
    "data.plot(x=\"z1\", y=[\"S_targ\", \"ldj\", \"S_pull\", \"|F|\"], subplots=True, figsize=(10, 10))"
   ]
  },
  {
   "cell_type": "code",
   "execution_count": null,
   "id": "49de9945-2c0d-4b12-b253-0527cccf5fd7",
   "metadata": {},
   "outputs": [],
   "source": [
    "pullback = PullbackAction(model.flow, model.target)\n",
    "trajectory = make_trajectory(pullback, step=0.01, length=4.0, seed=123456789)\n",
    "\n",
    "trajectory.plot(y=[\"z1\", \"φ1\"], marker=\".\", linestyle=\":\")"
   ]
  },
  {
   "cell_type": "code",
   "execution_count": null,
   "id": "6e6007a0-3b82-4631-89dc-40861a9c8d31",
   "metadata": {},
   "outputs": [],
   "source": [
    "trajectory.plot(y=[\"S_targ\", \"ldj\", \"S_pull\", \"|F|\"], subplots=True, figsize=(10, 10))"
   ]
  },
  {
   "cell_type": "raw",
   "id": "25ef3fee-e733-462a-97bb-e9200f7b4335",
   "metadata": {},
   "source": [
    "sns.pairplot(trajectory[[\"S_targ\", \"|F|\"]])"
   ]
  },
  {
   "cell_type": "code",
   "execution_count": null,
   "id": "293506a8-4561-44e5-8474-bb57de6a63a1",
   "metadata": {},
   "outputs": [],
   "source": [
    "data = make_scatter(pullback, size=10000)\n",
    "\n",
    "data.plot.scatter(\"z0\", \"z1\", c=\"ldj\")\n",
    "data.plot.scatter(\"φ0\", \"φ1\", c=\"ldj\")\n",
    "data.plot.scatter(\"S_targ\", \"S_pull\", c=\"|F|\")"
   ]
  },
  {
   "cell_type": "markdown",
   "id": "22414cde-d71b-4be8-ae05-d7cfbe10fc66",
   "metadata": {},
   "source": [
    "## Modifications that do not solve the problem"
   ]
  },
  {
   "cell_type": "markdown",
   "id": "b9c81cf3-380f-423d-a0fa-59840b2cc72e",
   "metadata": {},
   "source": [
    "### Remove the neural network"
   ]
  },
  {
   "cell_type": "code",
   "execution_count": null,
   "id": "7d9fbb6c-6fe4-4cb3-b06f-4cf47191d107",
   "metadata": {},
   "outputs": [],
   "source": [
    "L = 2\n",
    "\n",
    "target = Action(beta=3.0, lattice_size=L, lattice_dim=1)\n",
    "flow = AutoregressiveFlow(\n",
    "    lattice_size=L,\n",
    "    n_mixture=12,\n",
    "    net_shape=[],\n",
    "    net_activation=None,\n",
    ")\n",
    "model = FlowBasedSampler(flow, target)\n",
    "\n",
    "training_metrics = train(\n",
    "    model, \n",
    "    n_steps=2000,\n",
    "    batch_size=2048,\n",
    ")\n",
    "\n",
    "training_metrics.plot(x=\"step\", y=[\"loss\", \"ess\", \"vlw\"], subplots=True)"
   ]
  },
  {
   "cell_type": "code",
   "execution_count": null,
   "id": "117e159c-5f26-4ebb-b87b-e5c65f23f0c1",
   "metadata": {},
   "outputs": [],
   "source": [
    "pullback = PullbackAction(model.flow, model.target)\n",
    "data = make_linspace(pullback, size=10000)\n",
    "data.plot(x=\"z1\", y=[\"S_targ\", \"ldj\", \"S_pull\", \"|F|\"], subplots=True, figsize=(10, 10))"
   ]
  },
  {
   "cell_type": "code",
   "execution_count": null,
   "id": "80af18f6-b88e-44db-9463-d29a3a98edf6",
   "metadata": {},
   "outputs": [],
   "source": [
    "trajectory = make_trajectory(pullback, step=0.01, length=4.0, seed=123456789)\n",
    "trajectory.plot(y=[\"S_targ\", \"ldj\", \"S_pull\", \"|F|\"], subplots=True, figsize=(10, 10))"
   ]
  },
  {
   "cell_type": "code",
   "execution_count": null,
   "id": "229fec30-41f3-49a5-ab32-df376da81902",
   "metadata": {},
   "outputs": [],
   "source": [
    "data = make_scatter(pullback, size=10000)\n",
    "\n",
    "data.plot.scatter(\"z0\", \"z1\", c=\"ldj\")\n",
    "data.plot.scatter(\"φ0\", \"φ1\", c=\"ldj\")\n",
    "data.plot.scatter(\"S_targ\", \"S_pull\", c=\"|F|\")"
   ]
  },
  {
   "cell_type": "markdown",
   "id": "e1cb0b13-c3de-4b71-aa6c-73270d158df7",
   "metadata": {},
   "source": [
    "### Simplify transformation"
   ]
  },
  {
   "cell_type": "code",
   "execution_count": null,
   "id": "c96e61ed-1e85-47d6-8656-a55c3726a81c",
   "metadata": {
    "scrolled": true
   },
   "outputs": [],
   "source": [
    "L = 2\n",
    "\n",
    "target = Action(beta=3.0, lattice_size=L, lattice_dim=1)\n",
    "flow = AutoregressiveFlow(\n",
    "    lattice_size=L,\n",
    "    n_mixture=1,\n",
    "    net_shape=[16],\n",
    "    net_activation=\"Tanh\",\n",
    ")\n",
    "model = FlowBasedSampler(flow, target)\n",
    "\n",
    "training_metrics = train(\n",
    "    model, \n",
    "    n_steps=2000,\n",
    "    batch_size=2048,\n",
    ")\n",
    "\n",
    "training_metrics.plot(x=\"step\", y=[\"loss\", \"ess\", \"vlw\"], subplots=True)"
   ]
  },
  {
   "cell_type": "code",
   "execution_count": null,
   "id": "2aa53392-6af9-4dc3-b442-d030c3df52a0",
   "metadata": {},
   "outputs": [],
   "source": [
    "pullback = PullbackAction(model.flow, model.target)\n",
    "data = make_linspace(pullback, size=10000)\n",
    "data.plot(x=\"z1\", y=[\"S_targ\", \"ldj\", \"S_pull\", \"|F|\"], subplots=True, figsize=(10, 10))"
   ]
  },
  {
   "cell_type": "code",
   "execution_count": null,
   "id": "edd8b7a2-3760-4018-a198-a03178387c07",
   "metadata": {},
   "outputs": [],
   "source": [
    "pullback = PullbackAction(model.flow, model.target)\n",
    "trajectory = make_trajectory(pullback, step=0.01, length=4.0, seed=987654321)\n",
    "\n",
    "trajectory.plot(y=[\"S_targ\", \"ldj\", \"S_pull\", \"|F|\"], subplots=True, figsize=(10, 10))"
   ]
  },
  {
   "cell_type": "code",
   "execution_count": null,
   "id": "d698b1ef-328f-4421-8610-c4d5c6441616",
   "metadata": {},
   "outputs": [],
   "source": [
    "data = make_scatter(pullback, size=10000)\n",
    "\n",
    "data.plot.scatter(\"z0\", \"z1\", c=\"ldj\")\n",
    "data.plot.scatter(\"φ0\", \"φ1\", c=\"ldj\")\n",
    "data.plot.scatter(\"S_targ\", \"S_pull\", c=\"|F|\")"
   ]
  },
  {
   "cell_type": "markdown",
   "id": "5f99e6cb-fddb-442c-ba97-2e25c36e7e20",
   "metadata": {},
   "source": [
    "### Simplify transformation AND remove neural network"
   ]
  },
  {
   "cell_type": "code",
   "execution_count": null,
   "id": "5b50123e-a2b5-4fb7-a887-8f2de48402b9",
   "metadata": {},
   "outputs": [],
   "source": [
    "L = 2\n",
    "\n",
    "target = Action(beta=3.0, lattice_size=L, lattice_dim=1)\n",
    "flow = AutoregressiveFlow(\n",
    "    lattice_size=L,\n",
    "    n_mixture=1,\n",
    "    net_shape=[],\n",
    "    net_activation=\"Identity\",\n",
    ")\n",
    "model = FlowBasedSampler(flow, target)\n",
    "\n",
    "training_metrics = train(\n",
    "    model, \n",
    "    n_steps=2000,\n",
    "    batch_size=2048,\n",
    ")\n",
    "\n",
    "training_metrics.plot(x=\"step\", y=[\"loss\", \"ess\", \"vlw\"], subplots=True)"
   ]
  },
  {
   "cell_type": "code",
   "execution_count": null,
   "id": "1a0c0942-c4ce-42ab-92d0-46e1c030e581",
   "metadata": {},
   "outputs": [],
   "source": [
    "pullback = PullbackAction(model.flow, model.target)\n",
    "data = make_linspace(pullback, size=10000)\n",
    "data.plot(x=\"z1\", y=[\"S_targ\", \"ldj\", \"S_pull\", \"|F|\"], subplots=True, figsize=(10, 10))"
   ]
  },
  {
   "cell_type": "code",
   "execution_count": null,
   "id": "3823574d-bf1c-4817-adc2-29e24086e909",
   "metadata": {},
   "outputs": [],
   "source": [
    "pullback = PullbackAction(model.flow, model.target)\n",
    "trajectory = make_trajectory(pullback, step=0.01, length=4.0, seed=987654321)\n",
    "\n",
    "trajectory.plot(y=[\"S_targ\", \"ldj\", \"S_pull\", \"|F|\"], subplots=True, figsize=(10, 10))"
   ]
  },
  {
   "cell_type": "code",
   "execution_count": null,
   "id": "77041d0a-c934-4b2f-832f-1c48f09d9b55",
   "metadata": {},
   "outputs": [],
   "source": [
    "data = make_scatter(pullback, size=10000)\n",
    "\n",
    "data.plot.scatter(\"z0\", \"z1\", c=\"ldj\")\n",
    "data.plot.scatter(\"φ0\", \"φ1\", c=\"ldj\")\n",
    "data.plot.scatter(\"S_targ\", \"S_pull\", c=\"|F|\")"
   ]
  },
  {
   "cell_type": "markdown",
   "id": "e28be29d-206b-4c33-9d06-ac62b5cd7c2b",
   "metadata": {},
   "source": [
    "### Training at lower beta"
   ]
  },
  {
   "cell_type": "code",
   "execution_count": null,
   "id": "a2540d8a-715d-4739-b3f5-f541666e04e1",
   "metadata": {},
   "outputs": [],
   "source": [
    "L = 2\n",
    "\n",
    "target = Action(beta=1.0, lattice_size=L, lattice_dim=1)\n",
    "flow = AutoregressiveFlow(\n",
    "    lattice_size=L,\n",
    "    n_mixture=12,\n",
    "    net_shape=[16],\n",
    "    net_activation=\"Tanh\",\n",
    ")\n",
    "model = FlowBasedSampler(flow, target)\n",
    "\n",
    "training_metrics = train(\n",
    "    model, \n",
    "    n_steps=2000,\n",
    "    batch_size=2048,\n",
    ")\n",
    "\n",
    "training_metrics.plot(x=\"step\", y=[\"loss\", \"ess\", \"vlw\"], subplots=True)"
   ]
  },
  {
   "cell_type": "code",
   "execution_count": null,
   "id": "c3eff696-cfa0-4b26-9bc5-46c77a04a52b",
   "metadata": {},
   "outputs": [],
   "source": [
    "pullback = PullbackAction(model.flow, model.target)\n",
    "data = make_linspace(pullback, size=10000)\n",
    "data.plot(x=\"z1\", y=[\"S_targ\", \"ldj\", \"S_pull\", \"|F|\"], subplots=True, figsize=(10, 10))"
   ]
  },
  {
   "cell_type": "code",
   "execution_count": null,
   "id": "49a4f794-233f-4c1c-b11c-4eb50f6155c9",
   "metadata": {},
   "outputs": [],
   "source": [
    "pullback = PullbackAction(model.flow, model.target)\n",
    "trajectory = make_trajectory(pullback, step=0.01, length=8.0, seed=14850734071541236791)\n",
    "\n",
    "trajectory.plot(y=[\"z1\", \"φ1\"], marker=\".\", linestyle=\":\")\n",
    "\n",
    "trajectory.plot(y=[\"S_targ\", \"ldj\", \"S_pull\", \"|F|\"], subplots=True, figsize=(10, 10))"
   ]
  },
  {
   "cell_type": "code",
   "execution_count": null,
   "id": "7465d347-68b6-4eb7-8a65-263ff7b52d65",
   "metadata": {},
   "outputs": [],
   "source": [
    "new_target = Action(beta=3., lattice_size=L, lattice_dim=1)\n",
    "\n",
    "pullback = PullbackAction(model.flow, new_target)\n",
    "data = make_linspace(pullback, size=10000)\n",
    "data.plot(x=\"z1\", y=[\"S_targ\", \"ldj\", \"S_pull\", \"|F|\"], subplots=True, figsize=(10, 10))"
   ]
  },
  {
   "cell_type": "code",
   "execution_count": null,
   "id": "79425501-a800-4bd6-9658-002976573878",
   "metadata": {},
   "outputs": [],
   "source": [
    "new_target = Action(beta=3., lattice_size=L, lattice_dim=1)\n",
    "\n",
    "pullback = PullbackAction(model.flow, new_target)\n",
    "trajectory = make_trajectory(pullback, step=0.01, length=8.0, seed=14850734071541236791)\n",
    "\n",
    "trajectory.plot(y=[\"φ0\", \"z1\", \"φ1\"], marker=\".\", linestyle=\":\")\n",
    "\n",
    "trajectory.plot(y=[\"S_targ\", \"ldj\", \"S_pull\", \"|F|\"], subplots=True, figsize=(10, 10))"
   ]
  },
  {
   "cell_type": "markdown",
   "id": "0ec96f5a-7bcb-4c17-844c-3c148cfc5ac3",
   "metadata": {},
   "source": [
    "### Increasing the amount of training"
   ]
  },
  {
   "cell_type": "code",
   "execution_count": null,
   "id": "e3a48b61-bfce-4f7b-b3ee-f90673d12333",
   "metadata": {},
   "outputs": [],
   "source": [
    "L = 2\n",
    "\n",
    "target = Action(beta=3.0, lattice_size=L, lattice_dim=1)\n",
    "flow = AutoregressiveFlow(\n",
    "    lattice_size=L,\n",
    "    n_mixture=18,\n",
    "    net_shape=[8],\n",
    "    net_activation=\"Tanh\",\n",
    ")\n",
    "model = FlowBasedSampler(flow, target)\n",
    "\n",
    "training_metrics = train(\n",
    "    model, \n",
    "    n_steps=2000,\n",
    "    batch_size=10000,\n",
    ")\n",
    "\n",
    "training_metrics[\"log_1m_ess\"] = np.log(1 - training_metrics[\"ess\"])\n",
    "training_metrics[\"log_vlw\"] = np.log(training_metrics[\"vlw\"])\n",
    "training_metrics.plot(x=\"step\", y=[\"log_1m_ess\", \"log_vlw\"], subplots=True)"
   ]
  },
  {
   "cell_type": "code",
   "execution_count": null,
   "id": "ea42f6dd-55f5-4009-9216-c3f9bca898ca",
   "metadata": {},
   "outputs": [],
   "source": [
    "pullback = PullbackAction(model.flow, model.target)\n",
    "trajectory = make_trajectory(pullback, step=0.01, length=1.0)\n",
    "\n",
    "trajectory.plot(y=[\"S_targ\", \"ldj\", \"S_pull\", \"|F|\"], subplots=True, figsize=(10, 10))"
   ]
  },
  {
   "cell_type": "markdown",
   "id": "ee989f2a-06ba-48e7-aea0-e9d15c2df0b2",
   "metadata": {},
   "source": [
    "# Weird: ESS reaches maximum then decreases\n",
    "\n",
    "Probably a symptom of a very inflexible transformation."
   ]
  },
  {
   "cell_type": "code",
   "execution_count": null,
   "id": "aa3ba257-03bb-4344-8bee-50d6a5a2c94e",
   "metadata": {},
   "outputs": [],
   "source": [
    "L = 2\n",
    "\n",
    "target = Action(beta=3.0, lattice_size=L, lattice_dim=1)\n",
    "flow = AutoregressiveFlow(\n",
    "    lattice_size=L,\n",
    "    n_mixture=1,\n",
    "    net_shape=[],\n",
    "    net_activation=\"Identity\",\n",
    ")\n",
    "model = FlowBasedSampler(flow, target)\n",
    "\n",
    "training_metrics = train(\n",
    "    model, \n",
    "    n_steps=4000,\n",
    "    batch_size=2048,\n",
    "    init_lr=1e-3\n",
    ")\n",
    "\n",
    "training_metrics.plot(x=\"step\", y=[\"loss\", \"ess\", \"vlw\"], subplots=True)"
   ]
  },
  {
   "cell_type": "code",
   "execution_count": null,
   "id": "941a0fea-a39b-407e-bfbc-01504c65070a",
   "metadata": {},
   "outputs": [],
   "source": [
    "pullback = PullbackAction(model.flow, model.target)\n",
    "trajectory = make_trajectory(pullback, step=0.01, length=4.0)\n",
    "\n",
    "trajectory.plot(y=[\"S_targ\", \"ldj\", \"S_pull\", \"|F|\"], subplots=True, figsize=(10, 10))"
   ]
  },
  {
   "cell_type": "code",
   "execution_count": null,
   "id": "d3005321-e506-4fab-bea3-bf07b58203c5",
   "metadata": {},
   "outputs": [],
   "source": [
    "data = make_scatter(pullback, size=10000)\n",
    "\n",
    "data.plot.scatter(\"z0\", \"z1\", c=\"ldj\")\n",
    "data.plot.scatter(\"φ0\", \"φ1\", c=\"ldj\")\n",
    "data.plot.scatter(\"S_targ\", \"S_pull\", c=\"|F|\")"
   ]
  },
  {
   "cell_type": "code",
   "execution_count": null,
   "id": "f432beaf-a186-4f82-9c20-2cd6e67e34a7",
   "metadata": {},
   "outputs": [],
   "source": []
  }
 ],
 "metadata": {
  "kernelspec": {
   "display_name": "Python 3 (ipykernel)",
   "language": "python",
   "name": "python3"
  },
  "language_info": {
   "codemirror_mode": {
    "name": "ipython",
    "version": 3
   },
   "file_extension": ".py",
   "mimetype": "text/x-python",
   "name": "python",
   "nbconvert_exporter": "python",
   "pygments_lexer": "ipython3",
   "version": "3.10.7"
  }
 },
 "nbformat": 4,
 "nbformat_minor": 5
}
